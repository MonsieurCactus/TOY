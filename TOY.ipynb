{
 "cells": [
  {
   "cell_type": "code",
   "execution_count": 1,
   "metadata": {
    "collapsed": true
   },
   "outputs": [],
   "source": [
    "import numpy as np"
   ]
  },
  {
   "cell_type": "code",
   "execution_count": 2,
   "metadata": {
    "collapsed": false
   },
   "outputs": [
    {
     "data": {
      "text/plain": [
       "('0x101', 257, 10)"
      ]
     },
     "execution_count": 2,
     "metadata": {},
     "output_type": "execute_result"
    }
   ],
   "source": [
    "# toHex, fromHex\n",
    "#    // return a 4-digit hex string corresponding to 16-bit integer n\n",
    "#    public static String toHex(int n) {\n",
    "#        return String.format(\"%04X\", n & 0xFFFF);\n",
    "#    }\n",
    "#\n",
    "#    // return a 16-bit integer corresponding to the 4-digit hex string s\n",
    "#    public static int fromHex(String s) {\n",
    "#        return Integer.parseInt(s, 16)  & 0xFFFF;\n",
    "#    }\n",
    "\n",
    "hex(257), int(0x101), int(0xA)"
   ]
  },
  {
   "cell_type": "code",
   "execution_count": 3,
   "metadata": {
    "collapsed": false
   },
   "outputs": [
    {
     "name": "stdout",
     "output_type": "stream",
     "text": [
      "0xBE47 0xA84B 0xDFAF 0x1B29 0xB859 0xA81C 0xB578 0x5582\n",
      "0xBCDB 0x2D4F 0x4643 0x5E61 0x7067 0x8A8F 0x83C3 0xE05B\n",
      "0x4154 0x3F6B 0x9254 0x38C7 0x8636 0xB4D3 0x8DC2\n"
     ]
    }
   ],
   "source": [
    "#    // write to an array of hex integers, 8 per line to standard output\n",
    "#    public static void show(int[] a) {\n",
    "#        for (int i = 0; i < a.length; i++) {\n",
    "#            System.err.print(toHex(a[i]) + \" \");\n",
    "#            if (i % 8 == 7) System.err.println();\n",
    "#        }\n",
    "#    }\n",
    "    \n",
    "\n",
    "def show(a):\n",
    "    return '\\n'.join([ ' '.join( [\"0x{:04X}\".format(t) for t in a[8*k: 8*(k+1)]]) for k in range(len(a)/8 + 1)])\n",
    "\n",
    "a = [ int(2**16*np.random.random()) for k in range(23)]\n",
    "type(a[0])\n",
    "print show(a)"
   ]
  },
  {
   "cell_type": "code",
   "execution_count": 4,
   "metadata": {
    "collapsed": false
   },
   "outputs": [
    {
     "name": "stdout",
     "output_type": "stream",
     "text": [
      "PC: 5\n",
      "\n",
      "Registers:\n",
      "\n",
      "0x2151 0xFD09 0x7451 0x680D 0x0C11 0x93F0 0x5EC9 0x2612\n",
      "0x1725 0x2773 0x0284 0x3DF5 0x1C70 0x0849 0xF3B0 0xDD2B\n",
      "0x9B4E 0xE101 0x24D6 0x8E6B 0xD0CA 0xB535 0x9EEB\n",
      "\n",
      "Main memory:\n",
      "\n",
      "0x69A8 0xE3FC 0x64D2 0xE41F 0x1E9B 0x18B1 0x011D 0xD75C\n",
      "0x9BDF 0x3F21 0xE549 0x5497 0xE9C1 0xFA04 0x36D5 0xFB87\n",
      "0x2F69 0x4820 0x0627 0x5AFC 0x5CE5 0xCE5E 0xC0B1 0x124D\n",
      "0xD604 0xE1DF 0x7143 0xE530 0x2AB1 0x03AA 0xA0F3 0x9DA8\n",
      "0x6BD3 0xF4D1 0xF709 0xAFCF 0xD8D3 0xF2FC 0xD569 0x9633\n",
      "0x96B3 0x7307 0x3485 0xA9C9 0x9E79 0x8EF1 0xD094 0x968C\n",
      "0xACDD 0xCF18 0xC968 0x919A 0x93A3 0x9157 0x8BE7 0xF18D\n",
      "0x4BA5 0x1995 0xC9FC 0x0AE0 0xBE3E 0x6666 0x989F 0x79A6\n",
      "0x1157 0xBC45 0x226D 0x7BFD 0xF6AA 0x05D9 0xDBCF 0xAB96\n",
      "0xFCF4 0x5995 0x1C91 0x1223 0x9682 0x25E4 0x29B2 0xC8B1\n",
      "0x6555 0x898F 0x7DE1 0x6D7A 0xC726 0xBADD 0x1DA9 0x1C62\n",
      "0x8888 0x4DEC 0x0058 0xCE28 0x0FE4 0xD12F 0xB258 0xE3A2\n",
      "0x8AD2 0xE21B 0x5DA8 0xC17B 0xACE2 0x6B3A 0xCA30 0xC68F\n",
      "0x91E8 0xC91D 0x7F1D 0x24BF 0x3839 0x68CA 0xE536 0x408A\n",
      "0x8E8C 0xBD6F 0x575B 0xF266 0xECD1 0x100C 0x4ED2 0xA7E6\n",
      "0x85BA 0xD390 0x4FA4 0xC8C1 0xC52C 0xB895 0xC800 0x8512\n",
      "0xF89D 0xE89B 0xC1E9 0x4D56 0xB471 0xC252 0xC3E0 0x46BF\n",
      "0x436E 0xD0F5 0xDF32 0xF960 0x40DF 0xD09C 0x34F5 0x7440\n",
      "0xEC84 0x3192 0xE9B2 0x4239 0x2BBE 0xF8C7 0x3C55 0x5CD2\n",
      "0xA3B3 0xD77C 0xAD21 0x0E3A 0x1E08 0x527E 0x12D8 0xCFEE\n",
      "0x91EC 0x845A 0xF2BC 0xD871 0x8817 0x3FB4 0xAB57 0x3363\n",
      "0xFF98 0x6E85 0x3EEE 0x8429 0x7494 0x1F7C 0x5544 0x5D01\n",
      "0x3983 0xBCFD 0xDC75 0xC935 0x7F8B 0xDCB2 0xBCD6 0x843E\n",
      "0x51A2 0x1A11 0x0845 0x15EB 0x34F1 0x9F42 0x997E 0xFD21\n",
      "0x671E 0x46DF 0x705D 0x8EF4 0x108D 0x097C 0x1F79 0x9ED4\n",
      "0xED02 0xF304 0x6050 0xCDB3 0x43E4 0x55A8 0x9829 0x840F\n",
      "0xFB54 0xFB9A 0x0121 0x7899 0xDE9E 0x58BA 0x9A3C 0x4465\n",
      "0xB013 0x91BA 0xA44F 0x96E5 0xF13D 0x100D 0xEB3A 0xF799\n",
      "0xA7B0 0x15A8 0x1192 0x540F 0x98D7 0xB172 0x1CF4 0x0126\n",
      "0x0495 0x7F57 0x275A 0xF5FB 0xF5D0 0x3F84 0x5B16 0x08B0\n",
      "0x5A77 0x4533 0xE86D 0xA989 0xF3DC 0xCE60 0xF571 0xE0AE\n",
      "0x3E75 0x073F 0xA7E8 0xD574 0x37E1 0x92BB 0x1FE3 0x02BE\n",
      "\n"
     ]
    }
   ],
   "source": [
    "#    // write core dump of TOY to standard output\n",
    "#    public static void dump(int pc, int[] R, int[] mem) {\n",
    "#\n",
    "#        System.err.println(\"PC:\");\n",
    "#        System.err.printf(\"%02X\\n\", pc);\n",
    "#        System.err.println();\n",
    "#        System.err.println(\"Registers:\");\n",
    "#        show(R);\n",
    "#        System.err.println();\n",
    "#        System.err.println(\"Main memory:\");\n",
    "#        show(mem);\n",
    "#        System.err.println();\n",
    "#    }\n",
    " \n",
    "def dump( pc, R, mem):\n",
    "    print \"PC: %s\"%(pc)\n",
    "    print\n",
    "    print \"Registers:\\n\\n%s\"  % (show(R  ))\n",
    "    print\n",
    "    print \"Main memory:\\n\\n%s\"% (show(mem))\n",
    "    \n",
    "def noise(N):\n",
    "    return [ int(2**16*np.random.random()) for k in range(N)]\n",
    "\n",
    "R = noise(23)\n",
    "mem = noise(256)\n",
    "pc = 5\n",
    "\n",
    "dump(pc, R, mem)"
   ]
  },
  {
   "cell_type": "code",
   "execution_count": 12,
   "metadata": {
    "collapsed": false
   },
   "outputs": [
    {
     "name": "stdout",
     "output_type": "stream",
     "text": [
      " 8\t10\t15\t15\t255\t\"7\"\n",
      "\n",
      "17  8\t11\t15\t15\t255\t\"9\"\n",
      "\n",
      "18  7\t12\t 0\t 0\t..0\t\n",
      "19  7\t 1\t 0\t 1\t..1\t\n",
      "20 12\t10\t 1\t 8\t.24\t\n",
      "21  1\t12\t12\t11\t203\t\n",
      "22  2\t10\t10\t 1\t161\t\n",
      "23 12\t 0\t 1\t 4\t.20\t\n",
      "20 12\t10\t 1\t 8\t.24\t\n",
      "21  1\t12\t12\t11\t203\t\n",
      "22  2\t10\t10\t 1\t161\t\n",
      "23 12\t 0\t 1\t 4\t.20\t\n",
      "20 12\t10\t 1\t 8\t.24\t\n",
      "21  1\t12\t12\t11\t203\t\n",
      "22  2\t10\t10\t 1\t161\t\n",
      "23 12\t 0\t 1\t 4\t.20\t\n",
      "20 12\t10\t 1\t 8\t.24\t\n",
      "21  1\t12\t12\t11\t203\t\n",
      "22  2\t10\t10\t 1\t161\t\n",
      "23 12\t 0\t 1\t 4\t.20\t\n",
      "20 12\t10\t 1\t 8\t.24\t\n",
      "21  1\t12\t12\t11\t203\t\n",
      "22  2\t10\t10\t 1\t161\t\n",
      "23 12\t 0\t 1\t 4\t.20\t\n",
      "20 12\t10\t 1\t 8\t.24\t\n",
      "21  1\t12\t12\t11\t203\t\n",
      "22  2\t10\t10\t 1\t161\t\n",
      "23 12\t 0\t 1\t 4\t.20\t\n",
      "20 12\t10\t 1\t 8\t.24\t\n",
      "21  1\t12\t12\t11\t203\t\n",
      "22  2\t10\t10\t 1\t161\t\n",
      "23 12\t 0\t 1\t 4\t.20\t\n",
      "20 12\t10\t 1\t 8\t.24\t\n",
      "24  9\t12\t15\t15\t255\t\t0x003F\n",
      "25  0\t 0\t 0\t 0\t..0\t\n",
      "\n",
      "Core Dump of TOY After Executing\n",
      "--------------------------------\n",
      "PC: 26\n",
      "\n",
      "Registers:\n",
      "\n",
      "0x0000 0x0001 0x0000 0x0000 0x0000 0x0000 0x0000 0x0000\n",
      "0x0000 0x0000 0x0000 0x0009 0x003F 0x0000 0x0000 0x0000\n",
      "\n",
      "\n",
      "Main memory:\n",
      "\n",
      "0x0000 0x0000 0x0000 0x0000 0x0000 0x0000 0x0000 0x0000\n",
      "0x0000 0x0000 0x0000 0x0000 0x0000 0x0000 0x0000 0x0000\n",
      "0x8AFF 0x8BFF 0x7C00 0x7101 0xCA18 0x1CCB 0x2AA1 0xC014\n",
      "0x9CFF 0x0000 0x0000 0x0000 0x0000 0x0000 0x0000 0x0000\n",
      "0x0000 0x0000 0x0000 0x0000 0x0000 0x0000 0x0000 0x0000\n",
      "0x0000 0x0000 0x0000 0x0000 0x0000 0x0000 0x0000 0x0000\n",
      "0x0000 0x0000 0x0000 0x0000 0x0000 0x0000 0x0000 0x0000\n",
      "0x0000 0x0000 0x0000 0x0000 0x0000 0x0000 0x0000 0x0000\n",
      "0x0000 0x0000 0x0000 0x0000 0x0000 0x0000 0x0000 0x0000\n",
      "0x0000 0x0000 0x0000 0x0000 0x0000 0x0000 0x0000 0x0000\n",
      "0x0000 0x0000 0x0000 0x0000 0x0000 0x0000 0x0000 0x0000\n",
      "0x0000 0x0000 0x0000 0x0000 0x0000 0x0000 0x0000 0x0000\n",
      "0x0000 0x0000 0x0000 0x0000 0x0000 0x0000 0x0000 0x0000\n",
      "0x0000 0x0000 0x0000 0x0000 0x0000 0x0000 0x0000 0x0000\n",
      "0x0000 0x0000 0x0000 0x0000 0x0000 0x0000 0x0000 0x0000\n",
      "0x0000 0x0000 0x0000 0x0000 0x0000 0x0000 0x0000 0x0000\n",
      "0x0000 0x0000 0x0000 0x0000 0x0000 0x0000 0x0000 0x0000\n",
      "0x0000 0x0000 0x0000 0x0000 0x0000 0x0000 0x0000 0x0000\n",
      "0x0000 0x0000 0x0000 0x0000 0x0000 0x0000 0x0000 0x0000\n",
      "0x0000 0x0000 0x0000 0x0000 0x0000 0x0000 0x0000 0x0000\n",
      "0x0000 0x0000 0x0000 0x0000 0x0000 0x0000 0x0000 0x0000\n",
      "0x0000 0x0000 0x0000 0x0000 0x0000 0x0000 0x0000 0x0000\n",
      "0x0000 0x0000 0x0000 0x0000 0x0000 0x0000 0x0000 0x0000\n",
      "0x0000 0x0000 0x0000 0x0000 0x0000 0x0000 0x0000 0x0000\n",
      "0x0000 0x0000 0x0000 0x0000 0x0000 0x0000 0x0000 0x0000\n",
      "0x0000 0x0000 0x0000 0x0000 0x0000 0x0000 0x0000 0x0000\n",
      "0x0000 0x0000 0x0000 0x0000 0x0000 0x0000 0x0000 0x0000\n",
      "0x0000 0x0000 0x0000 0x0000 0x0000 0x0000 0x0000 0x0000\n",
      "0x0000 0x0000 0x0000 0x0000 0x0000 0x0000 0x0000 0x0000\n",
      "0x0000 0x0000 0x0000 0x0000 0x0000 0x0000 0x0000 0x0000\n",
      "0x0000 0x0000 0x0000 0x0000 0x0000 0x0000 0x0000 0x0000\n",
      "0x0000 0x0000 0x0000 0x0000 0x0000 0x0000 0x0000 0x003F\n",
      "\n"
     ]
    }
   ],
   "source": [
    "# ftp://ftp.cs.princeton.edu/pub/cs126/hamming/multiply.toy\n",
    "\n",
    "program = \"\"\"\n",
    "10: 8AFF   read R[A]                     a = StdIn.readInt();\n",
    "11: 8BFF   read R[B]                     b = StdIn.readInt();\n",
    "\n",
    "12: 7C00   R[C] <- 0000                  c = 0;\n",
    "13: 7101   R[1] <- 0001                  the constant 1\n",
    "\n",
    "14: CA18   if (R[A] == 0) goto 18        while (a != 0) {\n",
    "15: 1CCB   R[C] <- R[C] + R[B]              c += b;\n",
    "16: 2AA1   R[A] <- R[A] - R[1]              a -= 1;\n",
    "17: C014   goto 14                       }\n",
    "\n",
    "18: 9CFF   write R[C]                    StdOut.println(c);      \n",
    "19: 0000   halt                          \"\"\"\n",
    "\n",
    "program = [ x[:8].split(\":\") for x in program.split(\"\\n\") if len(x) > 0]\n",
    "\n",
    "program = [ (int(x[0], 16), int(x[1][1:], 16)) for x in program]\n",
    "\n",
    "program\n",
    "\n",
    "pc  = 0x10\n",
    "R   = [0 for x in range(16)]\n",
    "mem = [0 for x in range(256)]\n",
    "\n",
    "for x in program:\n",
    "    mem[x[0]] = x[1]\n",
    "    \n",
    "#print \"Core Dump of TOY Before Executing\"\n",
    "#print \"---------------------------------\"\n",
    "#dump(pc, R, mem)\n",
    "\n",
    "# Fetch and parse\n",
    "\n",
    "while True:\n",
    "    # fetch next instruction\n",
    "    inst = mem[pc]; pc += 1\n",
    "    # get opcode (bits 12-15)\n",
    "    op   = (inst >> 12) &  15    \n",
    "    # get dest   (bits  8-11)\n",
    "    d    = (inst >>  8) &  15    \n",
    "    # get s      (bits  4- 7)\n",
    "    s    = (inst >>  4) &  15    \n",
    "    # get t      (bits  0- 3)\n",
    "    t    = (inst >>  0) &  15 \n",
    "    # get addr   (bits  0- 7)\n",
    "    addr = (inst >>  0) & 255    \n",
    "\n",
    "    print \"%s\\t%s\\t%s\\t%s\\t%s\\t\"  % ((\" \" + str(op))[-2:], \n",
    "                                   (\" \" + str(d ))[-2:], \n",
    "                                   (\" \" + str(s ))[-2:], \n",
    "                                   (\" \" + str(t ))[-2:], \n",
    "                                   (\"..\" + str(addr))[-3:]),\n",
    "\n",
    "    if op == 0: break\n",
    "        \n",
    "    # stdin\n",
    "    if ((addr == 255 and op == 8) or (R[t] == 255 and op == 10)):\n",
    "        mem[255] = int(input(), 16);\n",
    "    \n",
    "   \n",
    "    \n",
    "    # execute\n",
    "    # https://wiki.python.org/moin/BitwiseOperators\n",
    "    if op == 1:\n",
    "        R[d] = R[s] + R[t]\n",
    "    if op == 2:\n",
    "        R[d] = R[s] - R[t]\n",
    "    if op == 3:\n",
    "        R[d] = R[s] & R[t]    \n",
    "    if op == 4:\n",
    "        R[d] = R[s] ^ R[t]\n",
    "    if op == 5:\n",
    "        R[d] = R[s] << R[t]    \n",
    "    if op == 6:\n",
    "        R[d] = R[s] >> R[t]\n",
    "    if op == 7:\n",
    "        R[d] = addr    \n",
    "    if op == 8:\n",
    "        R[d] = mem[addr]\n",
    "    if op == 9:\n",
    "        mem[addr] = R[d]   \n",
    "    if op ==10:\n",
    "        R[d] = mem[R[t] & 255]       \n",
    "    if op ==11:\n",
    "        mem[R[t] & 255] = R[d]\n",
    "    if op ==12:\n",
    "        if R[d] == 0:\n",
    "            pc = addr\n",
    "    if op ==13:\n",
    "        if R[d]  > 0:\n",
    "            pc = addr    \n",
    "    if op ==14:\n",
    "        pc = R[d]\n",
    "    if op ==15:\n",
    "        R[d] = pc\n",
    "        pc   = addr\n",
    "    #print R\n",
    "        \n",
    "    #  stdout\n",
    "    if ((addr == 255 and op == 9) or (R[t] == 255 and op == 11)):\n",
    "        print \"\\t\" + \"0x{:04X}\".format(mem[255])\n",
    "    else:\n",
    "        print\n",
    "        \n",
    "\n",
    "    R[0] = 0\n",
    "    R[d] = R[d] & 0xFFFF\n",
    "    pc   = pc   & 0xFF\n",
    "    \n",
    "    print pc,\n",
    "    \n",
    "print \n",
    "print\n",
    "print \"Core Dump of TOY After Executing\"\n",
    "print \"--------------------------------\"\n",
    "dump(pc, R, mem)"
   ]
  },
  {
   "cell_type": "code",
   "execution_count": 72,
   "metadata": {
    "collapsed": false
   },
   "outputs": [
    {
     "data": {
      "text/plain": [
       "(35583, 35583)"
      ]
     },
     "execution_count": 72,
     "metadata": {},
     "output_type": "execute_result"
    }
   ],
   "source": [
    "int('8AFF', 16), int('0x8AFF', 16)"
   ]
  },
  {
   "cell_type": "code",
   "execution_count": 9,
   "metadata": {
    "collapsed": false
   },
   "outputs": [
    {
     "data": {
      "text/plain": [
       "[0, 1, 0, 0, 0, 0, 0, 0, 0, 0, 0, 2, 2, 0, 0, 0]"
      ]
     },
     "execution_count": 9,
     "metadata": {},
     "output_type": "execute_result"
    }
   ],
   "source": [
    "R"
   ]
  },
  {
   "cell_type": "code",
   "execution_count": null,
   "metadata": {
    "collapsed": true
   },
   "outputs": [],
   "source": []
  }
 ],
 "metadata": {
  "kernelspec": {
   "display_name": "Python 2",
   "language": "python",
   "name": "python2"
  },
  "language_info": {
   "codemirror_mode": {
    "name": "ipython",
    "version": 2
   },
   "file_extension": ".py",
   "mimetype": "text/x-python",
   "name": "python",
   "nbconvert_exporter": "python",
   "pygments_lexer": "ipython2",
   "version": "2.7.6"
  }
 },
 "nbformat": 4,
 "nbformat_minor": 0
}

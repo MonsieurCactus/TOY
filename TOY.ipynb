{
 "cells": [
  {
   "cell_type": "code",
   "execution_count": 1,
   "metadata": {
    "collapsed": true
   },
   "outputs": [],
   "source": [
    "import numpy as np\n",
    "\n",
    "# http://www.cis.upenn.edu/~cis110/13sp/hw/hw05/TOY.java\n",
    "# http://www.cis.upenn.edu/~cis110/13sp/hw/hw05/TOYEncryption.shtml"
   ]
  },
  {
   "cell_type": "code",
   "execution_count": 13,
   "metadata": {
    "collapsed": false
   },
   "outputs": [
    {
     "data": {
      "text/html": [
       "\n",
       "<style>\n",
       "span.kernel_indicator_name {font-size: 12px;}\n",
       "div p { font-size: 20px; }\n",
       "\n",
       "a { color: #75C73B; }\n",
       "</style>\n"
      ],
      "text/plain": [
       "<IPython.core.display.HTML object>"
      ]
     },
     "execution_count": 13,
     "metadata": {},
     "output_type": "execute_result"
    }
   ],
   "source": [
    "# http://stackoverflow.com/questions/32156248/how-do-i-set-custom-css-for-my-ipython-ihaskell-jupyter-notebook\n",
    "\n",
    "from IPython.core.display import HTML\n",
    "HTML(\"\"\"\n",
    "<style>\n",
    "span.kernel_indicator_name {font-size: 12px;}\n",
    "div p { font-size: 20px; }\n",
    "\n",
    "a { color: #75C73B; }\n",
    "</style>\n",
    "\"\"\")"
   ]
  },
  {
   "cell_type": "markdown",
   "metadata": {},
   "source": [
    "# [TOY](http://www.cis.upenn.edu/~cis110/13sp/hw/hw05/TOYEncryption.shtml) Programming Language\n",
    "\n",
    "\n",
    "    This a port of the TOY programming language from Java (yuck!) to Python (:\n",
    "    \n",
    "    Many passages which are difficult to write in Java are often very easy in Python which is why my choice.\n",
    "    \n",
    "The entire [toy.java](http://www.cis.upenn.edu/~cis110/13sp/hw/hw05/TOY.java) compiler in Java is less than 100 lines, but we can make do with even less in Python.\n"
   ]
  },
  {
   "cell_type": "code",
   "execution_count": 14,
   "metadata": {
    "collapsed": false
   },
   "outputs": [
    {
     "data": {
      "text/plain": [
       "('0x101', 257, 10)"
      ]
     },
     "execution_count": 14,
     "metadata": {},
     "output_type": "execute_result"
    }
   ],
   "source": [
    "hex(257), int(0x101), int(0xA)"
   ]
  },
  {
   "cell_type": "code",
   "execution_count": 15,
   "metadata": {
    "collapsed": false
   },
   "outputs": [
    {
     "name": "stdout",
     "output_type": "stream",
     "text": [
      "0x2A73 0x46B8 0xB518 0xA0CB 0xA611 0xAFC9 0x05B1 0xD4A1\n",
      "0x9E0A 0x89C3 0x97D0 0x5EF3 0xE561 0xC6D5 0xEF0C 0x081F\n",
      "0x530F 0x9D09 0x6F11 0x06A1 0xB650 0x413C 0xA766\n"
     ]
    }
   ],
   "source": [
    "#    JAVA CODE:\n",
    "#\n",
    "#    // write to an array of hex integers, 8 per line to standard output\n",
    "#    public static void show(int[] a) {\n",
    "#        for (int i = 0; i < a.length; i++) {\n",
    "#            System.err.print(toHex(a[i]) + \" \");\n",
    "#            if (i % 8 == 7) System.err.println();\n",
    "#        }\n",
    "#    }\n",
    "    \n",
    "\n",
    "#    PYTHON CODE:\n",
    "\n",
    "def show(a):\n",
    "    return '\\n'.join([ ' '.join( [\"0x{:04X}\".format(t) for t in a[8*k: 8*(k+1)]]) for k in range(len(a)/8 + 1)])\n",
    "\n",
    "#    VERIFY PROGRAM WORKS ON RANDOMLY GENERATED NUMBERS -- DOES NOT MEAN ANYTHING\n",
    "\n",
    "a = [ int(2**16*np.random.random()) for k in range(23)]\n",
    "type(a[0])\n",
    "print show(a)"
   ]
  },
  {
   "cell_type": "code",
   "execution_count": 16,
   "metadata": {
    "collapsed": false
   },
   "outputs": [
    {
     "name": "stdout",
     "output_type": "stream",
     "text": [
      "PC: 5\n",
      "\n",
      "Registers:\n",
      "\n",
      "0x15D3 0xBF67 0x657D 0x2460 0x3607 0xE4A3 0xD269 0x5A06\n",
      "0x75BA 0x6820 0x7BA7 0xDEA8 0x53BA 0x013C 0x7673 0x6E0B\n",
      "0xCEBD 0xAC43 0x90D5 0xE9BF 0xDFB9 0xDE95 0x0371\n",
      "\n",
      "Main memory:\n",
      "\n",
      "0xBA73 0x9D44 0x9A7D 0x2384 0xEDC9 0x31FF 0x3635 0xAAEE\n",
      "0x4479 0x800A 0x87CF 0x50BB 0xC131 0x4230 0x740A 0xABE0\n",
      "0x070D 0xC035 0x8A19 0xD431 0xB666 0xBB81 0xA95C 0x4735\n",
      "0x27A7 0x3F33 0x606B 0x4259 0xDC38 0x8D92 0xEBAE 0x1CBB\n",
      "0xD17B 0x7E3C 0x3000 0x557D 0x254E 0xF56D 0xFE96 0x1935\n",
      "0x6E70 0x58B1 0xEAD8 0xEF7B 0x08AA 0xCDD5 0x29F4 0xEE7E\n",
      "0x1E9C 0x7176 0xA69A 0x6350 0x8156 0xA44A 0x8961 0x1A25\n",
      "0x73BF 0x3B18 0x4B15 0x3515 0xFFCD 0xAFFE 0xD157 0x0947\n",
      "0xA1CA 0xBF4E 0x2FE3 0x42DD 0xB867 0x2D5C 0xB653 0x0087\n",
      "0xA630 0x9258 0x7551 0xFADB 0xB3E8 0x46A8 0x217A 0xD65E\n",
      "0x8D37 0xE8C4 0xAC29 0x51D1 0xCB91 0x02C6 0x0B86 0x837E\n",
      "0xA996 0x671A 0xA187 0x5607 0xDB7C 0xCDE1 0x9D32 0xA9F9\n",
      "0xD4FF 0xE823 0x9790 0x6DB2 0x4BCC 0x0987 0xACA0 0x8DC1\n",
      "0x8210 0xCA92 0xC3F0 0xDFA5 0x3C20 0xDB73 0x6025 0x1508\n",
      "0xEB67 0x0CDB 0xADD6 0x49DA 0x7C7F 0x5726 0x75A4 0x66F7\n",
      "0xD26B 0x090A 0x949E 0x9C73 0x5B6D 0xD348 0xDE0F 0x1872\n",
      "0xCD6E 0xF6C3 0x3094 0x9787 0xF43A 0x14F4 0xCFD3 0x664B\n",
      "0xFF43 0xC800 0x6209 0x67E5 0xDF85 0x5FBF 0x92AA 0xD68F\n",
      "0xA9F2 0xC9A4 0xC940 0x01E2 0xCE6B 0x1C2F 0x0B4E 0x82D0\n",
      "0x21CF 0xD3FC 0xE81B 0x95AC 0x26BC 0x93DB 0x4B57 0xFB3D\n",
      "0x3978 0x4AC1 0xF154 0xEED5 0x8618 0x3953 0xBD4B 0x6777\n",
      "0x8461 0x392A 0x0ED6 0x07BE 0xED7E 0x339F 0xCF39 0x198A\n",
      "0x6BDE 0x6572 0xCC8E 0xF373 0x51ED 0xC050 0x45B0 0xE51C\n",
      "0x1479 0x4642 0x5D9E 0xB95F 0x4C21 0xA5EA 0xB3DF 0x38FC\n",
      "0x28C2 0x2B9A 0x2AF4 0xD0CF 0x1E77 0x0089 0x8447 0xAE9C\n",
      "0x6736 0xE8EC 0xA79F 0x6F4C 0xA9FC 0x6BAC 0xACF3 0xA1F1\n",
      "0x757D 0xD76F 0xD3A5 0xFCE0 0x36B2 0xE658 0x415D 0xE97B\n",
      "0x4F4C 0xCCD9 0xF77D 0x3697 0x9A3B 0x7A5E 0xEE68 0xA647\n",
      "0xA25B 0xD313 0x1520 0x17F1 0x9A01 0xA227 0x82F9 0xFE27\n",
      "0x1BFE 0x5EF1 0x1E9B 0x64EF 0xFE13 0x465A 0x7F45 0x97B1\n",
      "0xEDBD 0x24DA 0xEAF8 0x761D 0xE292 0xA36C 0x5FC3 0xA394\n",
      "0xCDA9 0x68E8 0x2732 0x5FD9 0xC7B2 0x4504 0x2178 0xA80F\n",
      "\n"
     ]
    }
   ],
   "source": [
    "#    // write core dump of TOY to standard output\n",
    "#    public static void dump(int pc, int[] R, int[] mem) {\n",
    "#\n",
    "#        System.err.println(\"PC:\");\n",
    "#        System.err.printf(\"%02X\\n\", pc);\n",
    "#        System.err.println();\n",
    "#        System.err.println(\"Registers:\");\n",
    "#        show(R);\n",
    "#        System.err.println();\n",
    "#        System.err.println(\"Main memory:\");\n",
    "#        show(mem);\n",
    "#        System.err.println();\n",
    "#    }\n",
    " \n",
    "def dump( pc, R, mem):\n",
    "    print \"PC: %s\"%(pc)\n",
    "    print\n",
    "    print \"Registers:\\n\\n%s\"  % (show(R  ))\n",
    "    print\n",
    "    print \"Main memory:\\n\\n%s\"% (show(mem))\n",
    "    \n",
    "def noise(N):\n",
    "    return [ int(2**16*np.random.random()) for k in range(N)]\n",
    "\n",
    "# GENERATE SOME TEST NUMBERS\n",
    "R = noise(23)\n",
    "mem = noise(256)\n",
    "pc = 5\n",
    "\n",
    "# LOOKS GOOD\n",
    "dump(pc, R, mem)"
   ]
  },
  {
   "cell_type": "markdown",
   "metadata": {},
   "source": [
    "Assembly language is not designed for humans to read; it is for **computer** to read."
   ]
  },
  {
   "cell_type": "code",
   "execution_count": 17,
   "metadata": {
    "collapsed": false
   },
   "outputs": [
    {
     "data": {
      "text/plain": [
       "[(16, 35583),\n",
       " (17, 35839),\n",
       " (18, 31744),\n",
       " (19, 28929),\n",
       " (20, 51736),\n",
       " (21, 7371),\n",
       " (22, 10913),\n",
       " (23, 49172),\n",
       " (24, 40191),\n",
       " (25, 0)]"
      ]
     },
     "execution_count": 17,
     "metadata": {},
     "output_type": "execute_result"
    }
   ],
   "source": [
    "# ftp://ftp.cs.princeton.edu/pub/cs126/hamming/multiply.toy\n",
    "\n",
    "program = \"\"\"\n",
    "10: 8AFF   read R[A]                     a = StdIn.readInt();\n",
    "11: 8BFF   read R[B]                     b = StdIn.readInt();\n",
    "\n",
    "12: 7C00   R[C] <- 0000                  c = 0;\n",
    "13: 7101   R[1] <- 0001                  the constant 1\n",
    "\n",
    "14: CA18   if (R[A] == 0) goto 18        while (a != 0) {\n",
    "15: 1CCB   R[C] <- R[C] + R[B]              c += b;\n",
    "16: 2AA1   R[A] <- R[A] - R[1]              a -= 1;\n",
    "17: C014   goto 14                       }\n",
    "\n",
    "18: 9CFF   write R[C]                    StdOut.println(c);      \n",
    "19: 0000   halt                          \"\"\"\n",
    "\n",
    "program = [ x[:8].split(\":\") for x in program.split(\"\\n\") if len(x) > 0]\n",
    "\n",
    "program = [ (int(x[0], 16), int(x[1][1:], 16)) for x in program]\n",
    "\n",
    "program"
   ]
  },
  {
   "cell_type": "markdown",
   "metadata": {},
   "source": [
    "# The main Act \n",
    "\n",
    "Requires the `show()` and `dump()` functions.  In our example we multiply $7 \\times 9 = 3F_{\\text{hex}} = 63_{10}$.\n",
    "\n",
    "**Exercise**:  Show that 63 in decimal is 3F in hexadecimal.  \n",
    "\n",
    "**Hint**:  $3 \\times 16 = 48$ and $F = 15$.  Then $\\color{red}{3F} = 48 + 15 = \\color{blue}{63}$."
   ]
  },
  {
   "cell_type": "code",
   "execution_count": 12,
   "metadata": {
    "collapsed": false,
    "scrolled": true
   },
   "outputs": [
    {
     "name": "stdout",
     "output_type": "stream",
     "text": [
      " 8\t10\t15\t15\t255\t\"7\"\n",
      "\n",
      "17  8\t11\t15\t15\t255\t\"9\"\n",
      "\n",
      "18  7\t12\t 0\t 0\t..0\t\n",
      "19  7\t 1\t 0\t 1\t..1\t\n",
      "20 12\t10\t 1\t 8\t.24\t\n",
      "21  1\t12\t12\t11\t203\t\n",
      "22  2\t10\t10\t 1\t161\t\n",
      "23 12\t 0\t 1\t 4\t.20\t\n",
      "20 12\t10\t 1\t 8\t.24\t\n",
      "21  1\t12\t12\t11\t203\t\n",
      "22  2\t10\t10\t 1\t161\t\n",
      "23 12\t 0\t 1\t 4\t.20\t\n",
      "20 12\t10\t 1\t 8\t.24\t\n",
      "21  1\t12\t12\t11\t203\t\n",
      "22  2\t10\t10\t 1\t161\t\n",
      "23 12\t 0\t 1\t 4\t.20\t\n",
      "20 12\t10\t 1\t 8\t.24\t\n",
      "21  1\t12\t12\t11\t203\t\n",
      "22  2\t10\t10\t 1\t161\t\n",
      "23 12\t 0\t 1\t 4\t.20\t\n",
      "20 12\t10\t 1\t 8\t.24\t\n",
      "21  1\t12\t12\t11\t203\t\n",
      "22  2\t10\t10\t 1\t161\t\n",
      "23 12\t 0\t 1\t 4\t.20\t\n",
      "20 12\t10\t 1\t 8\t.24\t\n",
      "21  1\t12\t12\t11\t203\t\n",
      "22  2\t10\t10\t 1\t161\t\n",
      "23 12\t 0\t 1\t 4\t.20\t\n",
      "20 12\t10\t 1\t 8\t.24\t\n",
      "21  1\t12\t12\t11\t203\t\n",
      "22  2\t10\t10\t 1\t161\t\n",
      "23 12\t 0\t 1\t 4\t.20\t\n",
      "20 12\t10\t 1\t 8\t.24\t\n",
      "24  9\t12\t15\t15\t255\t\t0x003F\n",
      "25  0\t 0\t 0\t 0\t..0\t\n",
      "\n",
      "Core Dump of TOY After Executing\n",
      "--------------------------------\n",
      "PC: 26\n",
      "\n",
      "Registers:\n",
      "\n",
      "0x0000 0x0001 0x0000 0x0000 0x0000 0x0000 0x0000 0x0000\n",
      "0x0000 0x0000 0x0000 0x0009 0x003F 0x0000 0x0000 0x0000\n",
      "\n",
      "\n",
      "Main memory:\n",
      "\n",
      "0x0000 0x0000 0x0000 0x0000 0x0000 0x0000 0x0000 0x0000\n",
      "0x0000 0x0000 0x0000 0x0000 0x0000 0x0000 0x0000 0x0000\n",
      "0x8AFF 0x8BFF 0x7C00 0x7101 0xCA18 0x1CCB 0x2AA1 0xC014\n",
      "0x9CFF 0x0000 0x0000 0x0000 0x0000 0x0000 0x0000 0x0000\n",
      "0x0000 0x0000 0x0000 0x0000 0x0000 0x0000 0x0000 0x0000\n",
      "0x0000 0x0000 0x0000 0x0000 0x0000 0x0000 0x0000 0x0000\n",
      "0x0000 0x0000 0x0000 0x0000 0x0000 0x0000 0x0000 0x0000\n",
      "0x0000 0x0000 0x0000 0x0000 0x0000 0x0000 0x0000 0x0000\n",
      "0x0000 0x0000 0x0000 0x0000 0x0000 0x0000 0x0000 0x0000\n",
      "0x0000 0x0000 0x0000 0x0000 0x0000 0x0000 0x0000 0x0000\n",
      "0x0000 0x0000 0x0000 0x0000 0x0000 0x0000 0x0000 0x0000\n",
      "0x0000 0x0000 0x0000 0x0000 0x0000 0x0000 0x0000 0x0000\n",
      "0x0000 0x0000 0x0000 0x0000 0x0000 0x0000 0x0000 0x0000\n",
      "0x0000 0x0000 0x0000 0x0000 0x0000 0x0000 0x0000 0x0000\n",
      "0x0000 0x0000 0x0000 0x0000 0x0000 0x0000 0x0000 0x0000\n",
      "0x0000 0x0000 0x0000 0x0000 0x0000 0x0000 0x0000 0x0000\n",
      "0x0000 0x0000 0x0000 0x0000 0x0000 0x0000 0x0000 0x0000\n",
      "0x0000 0x0000 0x0000 0x0000 0x0000 0x0000 0x0000 0x0000\n",
      "0x0000 0x0000 0x0000 0x0000 0x0000 0x0000 0x0000 0x0000\n",
      "0x0000 0x0000 0x0000 0x0000 0x0000 0x0000 0x0000 0x0000\n",
      "0x0000 0x0000 0x0000 0x0000 0x0000 0x0000 0x0000 0x0000\n",
      "0x0000 0x0000 0x0000 0x0000 0x0000 0x0000 0x0000 0x0000\n",
      "0x0000 0x0000 0x0000 0x0000 0x0000 0x0000 0x0000 0x0000\n",
      "0x0000 0x0000 0x0000 0x0000 0x0000 0x0000 0x0000 0x0000\n",
      "0x0000 0x0000 0x0000 0x0000 0x0000 0x0000 0x0000 0x0000\n",
      "0x0000 0x0000 0x0000 0x0000 0x0000 0x0000 0x0000 0x0000\n",
      "0x0000 0x0000 0x0000 0x0000 0x0000 0x0000 0x0000 0x0000\n",
      "0x0000 0x0000 0x0000 0x0000 0x0000 0x0000 0x0000 0x0000\n",
      "0x0000 0x0000 0x0000 0x0000 0x0000 0x0000 0x0000 0x0000\n",
      "0x0000 0x0000 0x0000 0x0000 0x0000 0x0000 0x0000 0x0000\n",
      "0x0000 0x0000 0x0000 0x0000 0x0000 0x0000 0x0000 0x0000\n",
      "0x0000 0x0000 0x0000 0x0000 0x0000 0x0000 0x0000 0x003F\n",
      "\n"
     ]
    }
   ],
   "source": [
    "pc  = 0x10\n",
    "R   = [0 for x in range(16)]\n",
    "mem = [0 for x in range(256)]\n",
    "\n",
    "for x in program:\n",
    "    mem[x[0]] = x[1]\n",
    "    \n",
    "#print \"Core Dump of TOY Before Executing\"\n",
    "#print \"---------------------------------\"\n",
    "#dump(pc, R, mem)\n",
    "\n",
    "# Fetch and parse\n",
    "\n",
    "while True:\n",
    "    # fetch next instruction\n",
    "    inst = mem[pc]; pc += 1\n",
    "    # get opcode (bits 12-15)\n",
    "    op   = (inst >> 12) &  15    \n",
    "    # get dest   (bits  8-11)\n",
    "    d    = (inst >>  8) &  15    \n",
    "    # get s      (bits  4- 7)\n",
    "    s    = (inst >>  4) &  15    \n",
    "    # get t      (bits  0- 3)\n",
    "    t    = (inst >>  0) &  15 \n",
    "    # get addr   (bits  0- 7)\n",
    "    addr = (inst >>  0) & 255    \n",
    "\n",
    "    print \"%s\\t%s\\t%s\\t%s\\t%s\\t\"  % ((\" \" + str(op))[-2:], \n",
    "                                   (\" \" + str(d ))[-2:], \n",
    "                                   (\" \" + str(s ))[-2:], \n",
    "                                   (\" \" + str(t ))[-2:], \n",
    "                                   (\"..\" + str(addr))[-3:]),\n",
    "\n",
    "    if op == 0: break\n",
    "        \n",
    "    # stdin\n",
    "    if ((addr == 255 and op == 8) or (R[t] == 255 and op == 10)):\n",
    "        mem[255] = int(input(), 16);\n",
    "    \n",
    "   \n",
    "    \n",
    "    # execute\n",
    "    # https://wiki.python.org/moin/BitwiseOperators\n",
    "    if op == 1:\n",
    "        R[d] = R[s] + R[t]\n",
    "    if op == 2:\n",
    "        R[d] = R[s] - R[t]\n",
    "    if op == 3:\n",
    "        R[d] = R[s] & R[t]    \n",
    "    if op == 4:\n",
    "        R[d] = R[s] ^ R[t]\n",
    "    if op == 5:\n",
    "        R[d] = R[s] << R[t]    \n",
    "    if op == 6:\n",
    "        R[d] = R[s] >> R[t]\n",
    "    if op == 7:\n",
    "        R[d] = addr    \n",
    "    if op == 8:\n",
    "        R[d] = mem[addr]\n",
    "    if op == 9:\n",
    "        mem[addr] = R[d]   \n",
    "    if op ==10:\n",
    "        R[d] = mem[R[t] & 255]       \n",
    "    if op ==11:\n",
    "        mem[R[t] & 255] = R[d]\n",
    "    if op ==12:\n",
    "        if R[d] == 0:\n",
    "            pc = addr\n",
    "    if op ==13:\n",
    "        if R[d]  > 0:\n",
    "            pc = addr    \n",
    "    if op ==14:\n",
    "        pc = R[d]\n",
    "    if op ==15:\n",
    "        R[d] = pc\n",
    "        pc   = addr\n",
    "    #print R\n",
    "        \n",
    "    #  stdout\n",
    "    if ((addr == 255 and op == 9) or (R[t] == 255 and op == 11)):\n",
    "        print \"\\t\" + \"0x{:04X}\".format(mem[255])\n",
    "    else:\n",
    "        print\n",
    "        \n",
    "\n",
    "    R[0] = 0\n",
    "    R[d] = R[d] & 0xFFFF\n",
    "    pc   = pc   & 0xFF\n",
    "    \n",
    "    print pc,\n",
    "    \n",
    "print \n",
    "print\n",
    "print \"Core Dump of TOY After Executing\"\n",
    "print \"--------------------------------\"\n",
    "dump(pc, R, mem)"
   ]
  },
  {
   "cell_type": "code",
   "execution_count": 72,
   "metadata": {
    "collapsed": false
   },
   "outputs": [
    {
     "data": {
      "text/plain": [
       "(35583, 35583)"
      ]
     },
     "execution_count": 72,
     "metadata": {},
     "output_type": "execute_result"
    }
   ],
   "source": [
    "int('8AFF', 16), int('0x8AFF', 16)"
   ]
  },
  {
   "cell_type": "code",
   "execution_count": 9,
   "metadata": {
    "collapsed": false
   },
   "outputs": [
    {
     "data": {
      "text/plain": [
       "[0, 1, 0, 0, 0, 0, 0, 0, 0, 0, 0, 2, 2, 0, 0, 0]"
      ]
     },
     "execution_count": 9,
     "metadata": {},
     "output_type": "execute_result"
    }
   ],
   "source": [
    "R"
   ]
  },
  {
   "cell_type": "markdown",
   "metadata": {},
   "source": [
    "# Consumer Version\n",
    "\n",
    "try to place all files together for easy use.  We add $ 8 + 5 = 13_{\\color{red}{10}} = D_{\\color{blue}{\\text{Hex}}}$"
   ]
  },
  {
   "cell_type": "code",
   "execution_count": 6,
   "metadata": {
    "collapsed": true
   },
   "outputs": [],
   "source": [
    "def show(a):\n",
    "    return '\\n'.join([ ' '.join( [\"0x{:04X}\".format(t) for t in a[8*k: 8*(k+1)]]) for k in range(len(a)/8 + 1)])\n",
    "\n",
    "def dump( pc, R, mem):\n",
    "    print \"PC: %s\"%(pc)\n",
    "    print\n",
    "    print \"Registers:\\n\\n%s\"  % (show(R  ))\n",
    "    print\n",
    "    print \"Main memory:\\n\\n%s\"% (show(mem))"
   ]
  },
  {
   "cell_type": "code",
   "execution_count": 1,
   "metadata": {
    "collapsed": false
   },
   "outputs": [
    {
     "data": {
      "text/plain": [
       "'program Add\\n// Input:    Stored in memory location 00 and 01\\n// Output:   Sum of two integers 5 + 8 = D saved in memory location 02.\\n// Remarks:\\n// -----------------------------------------------------------------------------\\n00: 0008   (0000 0000 0000 1000,      8)\\n01: 0005   (0000 0000 0000 0101,      5)\\n02: 0000   (0000 0000 0000 0000,      0)\\n\\n10: 8A00   R[A] <- mem[00]\\n11: 8B01   R[B] <- mem[01]\\n12: 1CAB   R[C] <- R[A] + R[B]\\n13: 9C02   mem[02] <- R[C]\\n14: 0000   halt   \\n'"
      ]
     },
     "execution_count": 1,
     "metadata": {},
     "output_type": "execute_result"
    }
   ],
   "source": [
    "file(\"add.toy\").read()"
   ]
  },
  {
   "cell_type": "code",
   "execution_count": 4,
   "metadata": {
    "collapsed": false
   },
   "outputs": [
    {
     "data": {
      "text/plain": [
       "[(0, 8),\n",
       " (1, 5),\n",
       " (2, 0),\n",
       " (16, 35328),\n",
       " (17, 35585),\n",
       " (18, 7339),\n",
       " (19, 39938),\n",
       " (20, 0)]"
      ]
     },
     "execution_count": 4,
     "metadata": {},
     "output_type": "execute_result"
    }
   ],
   "source": [
    "program = file(\"add.toy\").read()\n",
    "\n",
    "program = [ x[:8].split(\":\") for x in program.split(\"\\n\") if len(x) > 0]\n",
    "\n",
    "program = [ x for x in program if len(x) == 2]\n",
    "\n",
    "program = [ (int(x[0], 16), int(x[1][1:], 16)) for x in program]\n",
    "\n",
    "program"
   ]
  },
  {
   "cell_type": "code",
   "execution_count": 7,
   "metadata": {
    "collapsed": false
   },
   "outputs": [
    {
     "name": "stdout",
     "output_type": "stream",
     "text": [
      " 8\t10\t 0\t 0\t..0\t\n",
      "17  8\t11\t 0\t 1\t..1\t\n",
      "18  1\t12\t10\t11\t171\t\n",
      "19  9\t12\t 0\t 2\t..2\t\n",
      "20  0\t 0\t 0\t 0\t..0\t\n",
      "\n",
      "Core Dump of TOY After Executing\n",
      "--------------------------------\n",
      "PC: 21\n",
      "\n",
      "Registers:\n",
      "\n",
      "0x0000 0x0000 0x0000 0x0000 0x0000 0x0000 0x0000 0x0000\n",
      "0x0000 0x0000 0x0008 0x0005 0x000D 0x0000 0x0000 0x0000\n",
      "\n",
      "\n",
      "Main memory:\n",
      "\n",
      "0x0008 0x0005 0x000D 0x0000 0x0000 0x0000 0x0000 0x0000\n",
      "0x0000 0x0000 0x0000 0x0000 0x0000 0x0000 0x0000 0x0000\n",
      "0x8A00 0x8B01 0x1CAB 0x9C02 0x0000 0x0000 0x0000 0x0000\n",
      "0x0000 0x0000 0x0000 0x0000 0x0000 0x0000 0x0000 0x0000\n",
      "0x0000 0x0000 0x0000 0x0000 0x0000 0x0000 0x0000 0x0000\n",
      "0x0000 0x0000 0x0000 0x0000 0x0000 0x0000 0x0000 0x0000\n",
      "0x0000 0x0000 0x0000 0x0000 0x0000 0x0000 0x0000 0x0000\n",
      "0x0000 0x0000 0x0000 0x0000 0x0000 0x0000 0x0000 0x0000\n",
      "0x0000 0x0000 0x0000 0x0000 0x0000 0x0000 0x0000 0x0000\n",
      "0x0000 0x0000 0x0000 0x0000 0x0000 0x0000 0x0000 0x0000\n",
      "0x0000 0x0000 0x0000 0x0000 0x0000 0x0000 0x0000 0x0000\n",
      "0x0000 0x0000 0x0000 0x0000 0x0000 0x0000 0x0000 0x0000\n",
      "0x0000 0x0000 0x0000 0x0000 0x0000 0x0000 0x0000 0x0000\n",
      "0x0000 0x0000 0x0000 0x0000 0x0000 0x0000 0x0000 0x0000\n",
      "0x0000 0x0000 0x0000 0x0000 0x0000 0x0000 0x0000 0x0000\n",
      "0x0000 0x0000 0x0000 0x0000 0x0000 0x0000 0x0000 0x0000\n",
      "0x0000 0x0000 0x0000 0x0000 0x0000 0x0000 0x0000 0x0000\n",
      "0x0000 0x0000 0x0000 0x0000 0x0000 0x0000 0x0000 0x0000\n",
      "0x0000 0x0000 0x0000 0x0000 0x0000 0x0000 0x0000 0x0000\n",
      "0x0000 0x0000 0x0000 0x0000 0x0000 0x0000 0x0000 0x0000\n",
      "0x0000 0x0000 0x0000 0x0000 0x0000 0x0000 0x0000 0x0000\n",
      "0x0000 0x0000 0x0000 0x0000 0x0000 0x0000 0x0000 0x0000\n",
      "0x0000 0x0000 0x0000 0x0000 0x0000 0x0000 0x0000 0x0000\n",
      "0x0000 0x0000 0x0000 0x0000 0x0000 0x0000 0x0000 0x0000\n",
      "0x0000 0x0000 0x0000 0x0000 0x0000 0x0000 0x0000 0x0000\n",
      "0x0000 0x0000 0x0000 0x0000 0x0000 0x0000 0x0000 0x0000\n",
      "0x0000 0x0000 0x0000 0x0000 0x0000 0x0000 0x0000 0x0000\n",
      "0x0000 0x0000 0x0000 0x0000 0x0000 0x0000 0x0000 0x0000\n",
      "0x0000 0x0000 0x0000 0x0000 0x0000 0x0000 0x0000 0x0000\n",
      "0x0000 0x0000 0x0000 0x0000 0x0000 0x0000 0x0000 0x0000\n",
      "0x0000 0x0000 0x0000 0x0000 0x0000 0x0000 0x0000 0x0000\n",
      "0x0000 0x0000 0x0000 0x0000 0x0000 0x0000 0x0000 0x0000\n",
      "\n"
     ]
    }
   ],
   "source": [
    "\n",
    "    \n",
    "pc  = 0x10\n",
    "R   = [0 for x in range(16)]\n",
    "mem = [0 for x in range(256)]\n",
    "\n",
    "for x in program:\n",
    "    mem[x[0]] = x[1]\n",
    "    \n",
    "    \n",
    "\n",
    "    \n",
    "#print \"Core Dump of TOY Before Executing\"\n",
    "#print \"---------------------------------\"\n",
    "#dump(pc, R, mem)\n",
    "\n",
    "# Fetch and parse\n",
    "\n",
    "while True:\n",
    "    # fetch next instruction\n",
    "    inst = mem[pc]; pc += 1\n",
    "    # get opcode (bits 12-15)\n",
    "    op   = (inst >> 12) &  15    \n",
    "    # get dest   (bits  8-11)\n",
    "    d    = (inst >>  8) &  15    \n",
    "    # get s      (bits  4- 7)\n",
    "    s    = (inst >>  4) &  15    \n",
    "    # get t      (bits  0- 3)\n",
    "    t    = (inst >>  0) &  15 \n",
    "    # get addr   (bits  0- 7)\n",
    "    addr = (inst >>  0) & 255    \n",
    "\n",
    "    print \"%s\\t%s\\t%s\\t%s\\t%s\\t\"  % ((\" \" + str(op))[-2:], \n",
    "                                   (\" \" + str(d ))[-2:], \n",
    "                                   (\" \" + str(s ))[-2:], \n",
    "                                   (\" \" + str(t ))[-2:], \n",
    "                                   (\"..\" + str(addr))[-3:]),\n",
    "\n",
    "    if op == 0: break\n",
    "        \n",
    "    # stdin\n",
    "    if ((addr == 255 and op == 8) or (R[t] == 255 and op == 10)):\n",
    "        mem[255] = int(input(), 16);\n",
    "    \n",
    "   \n",
    "    \n",
    "    # execute\n",
    "    # https://wiki.python.org/moin/BitwiseOperators\n",
    "    if op == 1:\n",
    "        R[d] = R[s] + R[t]\n",
    "    if op == 2:\n",
    "        R[d] = R[s] - R[t]\n",
    "    if op == 3:\n",
    "        R[d] = R[s] & R[t]    \n",
    "    if op == 4:\n",
    "        R[d] = R[s] ^ R[t]\n",
    "    if op == 5:\n",
    "        R[d] = R[s] << R[t]    \n",
    "    if op == 6:\n",
    "        R[d] = R[s] >> R[t]\n",
    "    if op == 7:\n",
    "        R[d] = addr    \n",
    "    if op == 8:\n",
    "        R[d] = mem[addr]\n",
    "    if op == 9:\n",
    "        mem[addr] = R[d]   \n",
    "    if op ==10:\n",
    "        R[d] = mem[R[t] & 255]       \n",
    "    if op ==11:\n",
    "        mem[R[t] & 255] = R[d]\n",
    "    if op ==12:\n",
    "        if R[d] == 0:\n",
    "            pc = addr\n",
    "    if op ==13:\n",
    "        if R[d]  > 0:\n",
    "            pc = addr    \n",
    "    if op ==14:\n",
    "        pc = R[d]\n",
    "    if op ==15:\n",
    "        R[d] = pc\n",
    "        pc   = addr\n",
    "    #print R\n",
    "        \n",
    "    #  stdout\n",
    "    if ((addr == 255 and op == 9) or (R[t] == 255 and op == 11)):\n",
    "        print \"\\t\" + \"0x{:04X}\".format(mem[255])\n",
    "    else:\n",
    "        print\n",
    "        \n",
    "\n",
    "    R[0] = 0\n",
    "    R[d] = R[d] & 0xFFFF\n",
    "    pc   = pc   & 0xFF\n",
    "    \n",
    "    print pc,\n",
    "    \n",
    "print \n",
    "print\n",
    "print \"Core Dump of TOY After Executing\"\n",
    "print \"--------------------------------\"\n",
    "dump(pc, R, mem)"
   ]
  },
  {
   "cell_type": "code",
   "execution_count": null,
   "metadata": {
    "collapsed": true
   },
   "outputs": [],
   "source": []
  }
 ],
 "metadata": {
  "kernelspec": {
   "display_name": "Python 2",
   "language": "python",
   "name": "python2"
  },
  "language_info": {
   "codemirror_mode": {
    "name": "ipython",
    "version": 2
   },
   "file_extension": ".py",
   "mimetype": "text/x-python",
   "name": "python",
   "nbconvert_exporter": "python",
   "pygments_lexer": "ipython2",
   "version": "2.7.6"
  }
 },
 "nbformat": 4,
 "nbformat_minor": 0
}
